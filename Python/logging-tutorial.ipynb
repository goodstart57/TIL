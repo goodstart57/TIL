{
 "cells": [
  {
   "cell_type": "markdown",
   "metadata": {},
   "source": [
    "# Logging\n",
    "\n",
    "프린트를 이용한 콘솔에 로그를 출력하는 방식이 아니라\n",
    "\n",
    "의미있는 로그를 파일로 남기기 위해서 logging 모듈을 사용하여 기록한다.\n",
    "\n",
    "## 기본 사용법"
   ]
  },
  {
   "cell_type": "code",
   "execution_count": 1,
   "metadata": {},
   "outputs": [
    {
     "name": "stderr",
     "output_type": "stream",
     "text": [
      "debug\n",
      "info\n",
      "warning\n",
      "error\n",
      "critical\n"
     ]
    }
   ],
   "source": [
    "import os\n",
    "import logging\n",
    "import logging.handlers\n",
    "from datetime import datetime\n",
    "\n",
    "TODAY = datetime.now().strftime('%Y%m%d_%H%M')\n",
    "SAVE_PATH = \"./log/\"\n",
    "LOG_FILE_NAME = os.path.abspath(os.path.join(SAVE_PATH, 'log_{}.log'.format(TODAY)))\n",
    "\n",
    "if not os.path.exists(SAVE_PATH):\n",
    "    os.makedirs(SAVE_PATH)\n",
    "    print(\"directory '{}' is created\".format(SAVE_PATH))\n",
    "\n",
    "logger = logging.getLogger(\"crumbs\")\n",
    "logger.setLevel(logging.DEBUG)\n",
    "\n",
    "\n",
    "fileHandler = logging.FileHandler(LOG_FILE_NAME)\n",
    "streamHandler = logging.StreamHandler()\n",
    "\n",
    "logger.addHandler(fileHandler)\n",
    "logger.addHandler(streamHandler)\n",
    "\n",
    "logger.debug(\"debug\")\n",
    "logger.info(\"info\")\n",
    "logger.warning(\"warning\")\n",
    "logger.error(\"error\")\n",
    "logger.critical(\"critical\")"
   ]
  },
  {
   "cell_type": "code",
   "execution_count": 2,
   "metadata": {},
   "outputs": [
    {
     "name": "stdout",
     "output_type": "stream",
     "text": [
      "debug\n",
      "\n",
      "info\n",
      "\n",
      "warning\n",
      "\n",
      "error\n",
      "\n",
      "critical\n",
      "\n"
     ]
    }
   ],
   "source": [
    "lines = open(LOG_FILE_NAME, mode=\"r\")\n",
    "for line in lines:\n",
    "    print(line)"
   ]
  },
  {
   "cell_type": "markdown",
   "metadata": {},
   "source": [
    "## Formatter 사용"
   ]
  },
  {
   "cell_type": "code",
   "execution_count": 1,
   "metadata": {
    "scrolled": true
   },
   "outputs": [
    {
     "name": "stderr",
     "output_type": "stream",
     "text": [
      "[DEBUG <ipython-input-1-72d385ea1d43>:32] 2018-09-21 15:31:52,558 > debug\n",
      "[INFO <ipython-input-1-72d385ea1d43>:33] 2018-09-21 15:31:52,573 > info\n",
      "[WARNING <ipython-input-1-72d385ea1d43>:34] 2018-09-21 15:31:52,577 > warning\n",
      "[ERROR <ipython-input-1-72d385ea1d43>:35] 2018-09-21 15:31:52,582 > error\n",
      "[CRITICAL <ipython-input-1-72d385ea1d43>:36] 2018-09-21 15:31:52,586 > critical\n"
     ]
    }
   ],
   "source": [
    "import os\n",
    "import logging\n",
    "import logging.handlers\n",
    "from datetime import datetime\n",
    "\n",
    "TODAY = datetime.now().strftime('%Y%m%d_%H%M')\n",
    "SAVE_PATH = \"./log/\"\n",
    "LOG_FILE_NAME = os.path.abspath(os.path.join(SAVE_PATH, 'log_{}.log'.format(TODAY)))\n",
    "\n",
    "if not os.path.exists(SAVE_PATH):\n",
    "    os.makedirs(SAVE_PATH)\n",
    "    print(\"directory '{}' is created\".format(SAVE_PATH))\n",
    "\n",
    "logger = logging.getLogger(\"crumbs\")\n",
    "logger.setLevel(logging.DEBUG)\n",
    "\n",
    "## add formatter\n",
    "formatter = logging.Formatter('[%(levelname)s %(filename)s:%(lineno)s] %(asctime)s > %(message)s')\n",
    "\n",
    "fileHandler = logging.FileHandler(LOG_FILE_NAME)\n",
    "streamHandler = logging.StreamHandler()\n",
    "\n",
    "# handler에 formmater 세팅\n",
    "fileHandler.setFormatter(formatter)\n",
    "streamHandler.setFormatter(formatter)\n",
    "\n",
    "# Handler를 logging에 추가\n",
    "logger.addHandler(fileHandler)\n",
    "logger.addHandler(streamHandler)\n",
    "\n",
    "# log 찍기\n",
    "logger.debug(\"debug\")\n",
    "logger.info(\"info\")\n",
    "logger.warning(\"warning\")\n",
    "logger.error(\"error\")\n",
    "logger.critical(\"critical\")"
   ]
  },
  {
   "cell_type": "markdown",
   "metadata": {},
   "source": [
    "## log 파일이 너무 큰 경우 새로운 파일 생성\n",
    "\n",
    "logging.handlers.RotatingFileHandler에서\n",
    "\n",
    "backupCount(유지하길 원하는 로그파일의 수)로 지정하면 된다.\n"
   ]
  },
  {
   "cell_type": "code",
   "execution_count": null,
   "metadata": {
    "collapsed": true
   },
   "outputs": [],
   "source": [
    "# file 최대 크기를 10MB로 설정\n",
    "FILE_MAX_BYTES = 10 * 1024 * 1024\n",
    "fileHandler = logging.handlers.RotatingFileHandler(filename=LOG_FILE_NAME, maxBytes=FILE_MAX_BYTES, backupCount=10)"
   ]
  },
  {
   "cell_type": "code",
   "execution_count": 2,
   "metadata": {
    "collapsed": true
   },
   "outputs": [],
   "source": [
    "a = datetime.now()"
   ]
  },
  {
   "cell_type": "code",
   "execution_count": 3,
   "metadata": {},
   "outputs": [
    {
     "data": {
      "text/plain": [
       "datetime.timedelta(-1, 86388, 553898)"
      ]
     },
     "execution_count": 3,
     "metadata": {},
     "output_type": "execute_result"
    }
   ],
   "source": [
    "b =a - datetime.now()\n",
    "b"
   ]
  },
  {
   "cell_type": "code",
   "execution_count": 12,
   "metadata": {},
   "outputs": [
    {
     "data": {
      "text/plain": [
       "11"
      ]
     },
     "execution_count": 12,
     "metadata": {},
     "output_type": "execute_result"
    }
   ],
   "source": [
    "(-b).seconds//60\n",
    "\n",
    "(-b).seconds%60"
   ]
  }
 ],
 "metadata": {
  "kernelspec": {
   "display_name": "Python 3",
   "language": "python",
   "name": "python3"
  },
  "language_info": {
   "codemirror_mode": {
    "name": "ipython",
    "version": 3
   },
   "file_extension": ".py",
   "mimetype": "text/x-python",
   "name": "python",
   "nbconvert_exporter": "python",
   "pygments_lexer": "ipython3",
   "version": "3.6.1"
  }
 },
 "nbformat": 4,
 "nbformat_minor": 2
}
