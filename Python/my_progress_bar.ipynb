{
 "cells": [
  {
   "cell_type": "markdown",
   "metadata": {},
   "source": [
    "# 프로그래스바(progress bar)를 만드는 법\n",
    "\n",
    "## 1. print 함수의 argument 이용"
   ]
  },
  {
   "cell_type": "code",
   "execution_count": 1,
   "metadata": {},
   "outputs": [],
   "source": [
    "from time import sleep"
   ]
  },
  {
   "cell_type": "code",
   "execution_count": 2,
   "metadata": {},
   "outputs": [
    {
     "name": "stdout",
     "output_type": "stream",
     "text": [
      "My Progress Bar| #################### | Complete\n"
     ]
    }
   ],
   "source": [
    "print(\"My Progress Bar| \", end=\"\")\n",
    "for i in range(20):\n",
    "    print(\"#\", end=\"\")\n",
    "    sleep(0.2)\n",
    "print(\" | Complete\")"
   ]
  },
  {
   "cell_type": "markdown",
   "metadata": {},
   "source": [
    "## 2. backspace 이용 (??)"
   ]
  },
  {
   "cell_type": "code",
   "execution_count": 1,
   "metadata": {},
   "outputs": [
    {
     "name": "stdout",
     "output_type": "stream",
     "text": []
    }
   ],
   "source": [
    "import time\n",
    "import sys\n",
    "\n",
    "\n",
    "def backspace(n):\n",
    "    # print((b'\\x08').decode(), end='')     # use \\x08 char to go back\n",
    "    print('\\r', end='')                     # use '\\r' to go back\n",
    "\n",
    "\n",
    "for i in range(101):                        # for 0 to 100\n",
    "    s = str(i) + '%'                        # string for output\n",
    "    print(s, end='')                        # just print and flush\n",
    "    # sys.stdout.flush()                    # needed for flush when using \\x08\n",
    "    backspace(len(s))                       # back for n chars\n",
    "    time.sleep(0.2)                         # sleep for 200ms"
   ]
  }
 ],
 "metadata": {
  "kernelspec": {
   "display_name": "Python 3",
   "language": "python",
   "name": "python3"
  },
  "language_info": {
   "codemirror_mode": {
    "name": "ipython",
    "version": 3
   },
   "file_extension": ".py",
   "mimetype": "text/x-python",
   "name": "python",
   "nbconvert_exporter": "python",
   "pygments_lexer": "ipython3",
   "version": "3.6.5"
  }
 },
 "nbformat": 4,
 "nbformat_minor": 2
}
