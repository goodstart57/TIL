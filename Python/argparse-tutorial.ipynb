{
 "cells": [
  {
   "cell_type": "markdown",
   "metadata": {},
   "source": [
    "# argparse 모듈을 이용해서 python 파일 실행시 인자(argument) 받기\n",
    "\n",
    "명령에 인자를 사용하기 위해서 `ArgumentParser` 클래스를 생성하고 \n",
    "\n",
    "`add_argument()` 메소드를 이용해서 사용하고 싶은 인자의 규칙이나 조건을 Parser에 저장하고\n",
    "\n",
    "`parse_args()` 메소드를 이용해서 명령줄에 쓰여진 인자를 attribute를 가진 객체로 적용시킨다.\n",
    "\n",
    "CrawlPanel.py를 예시로 들어서 설명해보겠습니다.\n",
    "\n",
    "## 1. import"
   ]
  },
  {
   "cell_type": "code",
   "execution_count": 1,
   "metadata": {
    "collapsed": true
   },
   "outputs": [],
   "source": [
    "import argparse"
   ]
  },
  {
   "cell_type": "markdown",
   "metadata": {},
   "source": [
    "## 2. 클래스 생성\n",
    "\n",
    "__class__ ArgumentParser()\n",
    "\n",
    "- __prog__: argparse가 사용되는 python 파일명 저장\n",
    "\n",
    "- __usage__: 인자를 어떻게 쓸 수 있는지 사용법 명시\n",
    "\n",
    "- __description__: 프로그램의 용도 설명\n",
    "\n",
    "- __add_help__: -h이나 --help 옵션 추가하는 기능으로 기본적으로 True입니다.\n",
    "\n",
    "등등 많은 인자가 있고 \n",
    "\n",
    "여담으로 usage는 add_argument()메소드에서 지정한 인자와 help에 저장한 사용법을 이용하여 자동으로 생성되고\n",
    "\n",
    "description의 경우에는 --help 옵션을 이용해서 사용법을 찾아볼때 출력됩니다."
   ]
  },
  {
   "cell_type": "code",
   "execution_count": 2,
   "metadata": {},
   "outputs": [],
   "source": [
    "ap = argparse.ArgumentParser() # argument를 정의할 클래스 인스턴스 ap에 저장"
   ]
  },
  {
   "cell_type": "markdown",
   "metadata": {},
   "source": [
    "## 3. 인자 추가\n",
    "\n",
    "__method__ add_argument\n",
    "\n",
    "- `인자 지정하는 법`: 쌍따옴표(\" \")와 하이픈(-)을 이용해서 인자를 적용시킬 attribute을 지정.<br>\n",
    "또한, 주로 -는 attribute의 약어, --는 attribute의 전체 명칭으로 사용<br>\n",
    "만약 하이픈을 사용하지 않는다면 positional 인자로 입력되어<br>\n",
    "python [파일명].py 1 2 와 같이 명령창에서 조건을 붙이지 않고 사용이 가능하며<br>\n",
    "위 optional 인자와 같이 attribute을 이용해서 사용한다.\n",
    "\n",
    "\n",
    "- `required`: True(참으로 지정한 인자를 명령줄에서 지정하지 않은 경우 에러가 발생), False(굳이 입력하지 않아도 되므로 default를 지정해야 합니다.)\n",
    "\n",
    "\n",
    "- `type`: int, float, str, bool 등 인자가 입력되었을 때 데이터 형식을 지정\n",
    "\n",
    "\n",
    "- `nargs`: 인자로 들어오는 수를 지정하며 지정한 개수를 초과하는 경우 무시하며<br>\n",
    "\"+\"나 \" * \" 로 지정하는 경우 1개이상을 받습니다.<br>\n",
    "만약 nargs 옵션이 지정되는 경우 인자 한개를 받더라도 리스트 형식으로 객체를 저장합니다.\n",
    "\n",
    "\n",
    "- `action`: 들어오는 인자에 대한 동작을 정의합니다<br>\n",
    "\"store\": 기본 값으로 값을 저장<br>\n",
    "\"store_true\"/\"store_false\": 추가적인 입력 없이 사용하는 동작으로 True나 False를 저장<br>\n",
    "\"store_const\": const 옵션과 함께 사용하는 동작으로 True나 False를 저장하는 것처럼 const에 지정된 값을 저장<br>\n",
    "\"append\": 명령줄에 인자를 여러번 사용할 수 있고 여러번 사용하면 입력한 인자를 하나의 리스트에 저장<br>\n",
    "\"append_const\": store_const와 비슷하게 인자를 여러번 입력하면 const에 지정된 값을 리스트에 여러번 저장\n",
    "\n",
    "\n",
    "- `const`: action의 \"store_const\"나 \"append_const\"와 함께 사용되는 옵션으로 여기에 지정된 값이 객체로 저장됩니다."
   ]
  },
  {
   "cell_type": "code",
   "execution_count": 3,
   "metadata": {},
   "outputs": [
    {
     "data": {
      "text/plain": [
       "Namespace(end=20, foo=['1', '2', '3'], istrue=True, saveconst=['const', 'const', 'const'], start=10)"
      ]
     },
     "execution_count": 3,
     "metadata": {},
     "output_type": "execute_result"
    }
   ],
   "source": [
    "ap = argparse.ArgumentParser() # argument를 정의할 클래스 인스턴스 ap에 저장\n",
    "ap.add_argument(\"foo\", nargs=\"*\") # positional 인자(이 아래에는 optional 인자)\n",
    "ap.add_argument(\"-s\", \"--start\", required=True, type=int, help=\"start page for crawling\")\n",
    "ap.add_argument(\"-e\", \"--end\", required=True, type=int, help=\"end page for crawling\")\n",
    "ap.add_argument(\"-t\", \"--istrue\", action=\"store_true\")\n",
    "ap.add_argument(\"-sc\", \"--saveconst\", action=\"append_const\", const=\"const\")\n",
    "ap.parse_args(\"1 2 3 -s 10 -e 20 -t -sc -sc -sc\".split())"
   ]
  },
  {
   "cell_type": "markdown",
   "metadata": {},
   "source": [
    "## 4. 인자를 객체로 적용해서 저장\n",
    "\n",
    "parse_args() 메소드를 이용해서 저장하게 되는데 사용방법은 다음과 같다."
   ]
  },
  {
   "cell_type": "code",
   "execution_count": 4,
   "metadata": {},
   "outputs": [
    {
     "name": "stdout",
     "output_type": "stream",
     "text": [
      "positional args= ['1', '2', '3']\n",
      "optional args= 10\n",
      "result of store_true is True\n",
      "result of append_const is ['const', 'const', 'const']\n"
     ]
    }
   ],
   "source": [
    "ap = argparse.ArgumentParser() # argument를 정의할 클래스 인스턴스 ap에 저장\n",
    "ap.add_argument(\"foo\", nargs=\"*\") # positional 인자(이 아래에는 optional 인자)\n",
    "ap.add_argument(\"-s\", \"--start\", required=True, type=int, help=\"start page for crawling\")\n",
    "ap.add_argument(\"-e\", \"--end\", required=True, type=int, help=\"end page for crawling\")\n",
    "ap.add_argument(\"-t\", \"--istrue\", action=\"store_true\")\n",
    "ap.add_argument(\"-sc\", \"--saveconst\", action=\"append_const\", const=\"const\")\n",
    "args = ap.parse_args(\"1 2 3 -s 10 -e 20 -t -sc -sc -sc\".split())\n",
    "\n",
    "print(\"positional args= {}\".format(args.foo))\n",
    "print(\"optional args= {}\".format(args.start))\n",
    "print(\"result of store_true is {}\".format(args.istrue))\n",
    "print(\"result of append_const is {}\".format(args.saveconst))"
   ]
  },
  {
   "cell_type": "markdown",
   "metadata": {},
   "source": [
    "만약 parse_args() 메소드를 사용하지 않는다면 sys module의 argv에 저장된다."
   ]
  },
  {
   "cell_type": "code",
   "execution_count": 5,
   "metadata": {},
   "outputs": [
    {
     "name": "stdout",
     "output_type": "stream",
     "text": [
      "['C:\\\\0Python\\\\Anaconda3-4.4.0x84\\\\lib\\\\site-packages\\\\ipykernel_launcher.py', '-f', 'C:\\\\Users\\\\folwo\\\\AppData\\\\Roaming\\\\jupyter\\\\runtime\\\\kernel-362ade11-0a2e-4a0f-a5f2-33edb9c2c7ef.json']\n"
     ]
    }
   ],
   "source": [
    "import sys\n",
    "\n",
    "ap = argparse.ArgumentParser() # argument를 정의할 클래스 인스턴스 ap에 저장\n",
    "ap.add_argument(\"foo\", nargs=\"*\") # positional 인자(이 아래에는 optional 인자)\n",
    "ap.add_argument(\"-s\", \"--start\", required=True, type=int, help=\"start page for crawling\")\n",
    "ap.add_argument(\"-e\", \"--end\", required=True, type=int, help=\"end page for crawling\")\n",
    "ap.add_argument(\"-t\", \"--istrue\", action=\"store_true\")\n",
    "ap.add_argument(\"-sc\", \"--saveconst\", action=\"append_const\", const=\"const\")\n",
    "ap.parse_args(\"1 2 3 -s 10 -e 20 -t -sc -sc -sc\".split())\n",
    "\n",
    "print(sys.argv)"
   ]
  },
  {
   "cell_type": "markdown",
   "metadata": {},
   "source": [
    "jupyter notebook을 이용해서 실습했기 때문에 명령줄과 다소 차이가 있었고\n",
    "\n",
    "python파일을 만들어 명령줄에서 다시 실행해보면 다음과 같습니다.\n",
    "\n",
    "<img src=\"./images/argparse-argv.JPG\">"
   ]
  }
 ],
 "metadata": {
  "kernelspec": {
   "display_name": "Python 3",
   "language": "python",
   "name": "python3"
  },
  "language_info": {
   "codemirror_mode": {
    "name": "ipython",
    "version": 3
   },
   "file_extension": ".py",
   "mimetype": "text/x-python",
   "name": "python",
   "nbconvert_exporter": "python",
   "pygments_lexer": "ipython3",
   "version": "3.6.5"
  }
 },
 "nbformat": 4,
 "nbformat_minor": 2
}
