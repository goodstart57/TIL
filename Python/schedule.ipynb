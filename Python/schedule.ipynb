{
 "cells": [
  {
   "cell_type": "code",
   "execution_count": 2,
   "metadata": {},
   "outputs": [],
   "source": [
    "import schedule\n",
    "import time"
   ]
  },
  {
   "cell_type": "code",
   "execution_count": null,
   "metadata": {},
   "outputs": [
    {
     "name": "stdout",
     "output_type": "stream",
     "text": [
      "I'm working...\n"
     ]
    }
   ],
   "source": [
    "def job():\n",
    "    print(\"I'm working...\")\n",
    "  \n",
    " \n",
    "# 10초에 한번씩 실행\n",
    "schedule.every(10).seconds.do(job)\n",
    "# 10분에 한번씩 실행\n",
    "schedule.every(10).minutes.do(job)\n",
    "# 매 시간 실행\n",
    "schedule.every().hour.do(job)\n",
    "# 매일 10:30 에 실행\n",
    "schedule.every().day.at(\"10:30\").do(job)\n",
    "# 매주 월요일 실행\n",
    "schedule.every().monday.do(job)\n",
    "# 매주 수요일 13:15 에 실행\n",
    "schedule.every().wednesday.at(\"13:15\").do(job)\n",
    "\n",
    "while True:\n",
    "    schedule.run_pending()\n",
    "    time.sleep(1)"
   ]
  }
 ],
 "metadata": {
  "kernelspec": {
   "display_name": "Python 3",
   "language": "python",
   "name": "python3"
  },
  "language_info": {
   "codemirror_mode": {
    "name": "ipython",
    "version": 3
   },
   "file_extension": ".py",
   "mimetype": "text/x-python",
   "name": "python",
   "nbconvert_exporter": "python",
   "pygments_lexer": "ipython3",
   "version": "3.6.1"
  }
 },
 "nbformat": 4,
 "nbformat_minor": 2
}
