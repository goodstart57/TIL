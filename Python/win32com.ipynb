{
 "cells": [
  {
   "cell_type": "code",
   "execution_count": 1,
   "metadata": {
    "collapsed": true
   },
   "outputs": [],
   "source": [
    "import win32com.client\n",
    "\n",
    "excel = win32com.client.Dispatch(\"Excel.Application\")\n",
    "excel.Visible = True\n",
    "wb = excel.Workbooks.Add()\n",
    "ws = wb.Worksheets(\"Sheet1\")\n",
    "ws.Cells(1, 1).Value = \"hello world\"\n",
    "ws.Cells(1, 2).Value = \"hello world2\"\n",
    "wb.SaveAs('c:\\\\Users\\\\folwo\\\\Desktop\\\\test.xlsx')\n",
    "excel.Quit()"
   ]
  },
  {
   "cell_type": "code",
   "execution_count": 2,
   "metadata": {},
   "outputs": [
    {
     "name": "stdout",
     "output_type": "stream",
     "text": [
      "hello world\n"
     ]
    }
   ],
   "source": [
    "import win32com.client\n",
    "\n",
    "excel = win32com.client.Dispatch(\"Excel.Application\")\n",
    "excel.Visible = True\n",
    "wb = excel.Workbooks.Open('C:\\\\Users\\\\folwo\\\\Desktop\\\\test.xlsx')\n",
    "ws = wb.ActiveSheet\n",
    "print(ws.Cells(1,1).Value)\n",
    "excel.Quit()"
   ]
  }
 ],
 "metadata": {
  "kernelspec": {
   "display_name": "Python 3",
   "language": "python",
   "name": "python3"
  },
  "language_info": {
   "codemirror_mode": {
    "name": "ipython",
    "version": 3
   },
   "file_extension": ".py",
   "mimetype": "text/x-python",
   "name": "python",
   "nbconvert_exporter": "python",
   "pygments_lexer": "ipython3",
   "version": "3.6.1"
  }
 },
 "nbformat": 4,
 "nbformat_minor": 2
}
