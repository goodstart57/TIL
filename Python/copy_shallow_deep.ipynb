{
 "cells": [
  {
   "cell_type": "markdown",
   "metadata": {},
   "source": [
    "# Deep / Shallow Copy\n",
    "\n",
    "## Shallow Copy\n",
    "\n",
    "복사된 객체의 내용이 원본의 내용과 같아서 복제된 내용을 변경해도 원본이 수정된다.\n",
    "\n",
    "### Shallow Copy Example 1"
   ]
  },
  {
   "cell_type": "code",
   "execution_count": 5,
   "metadata": {},
   "outputs": [
    {
     "name": "stdout",
     "output_type": "stream",
     "text": [
      "my_list : [1, 2, 3]\n",
      "your_list : [1, 2, 3]\n"
     ]
    }
   ],
   "source": [
    "import copy\n",
    "\n",
    "my_list = [1, 2, 3]\n",
    "your_list = my_list\n",
    "\n",
    "print(\"my_list : {}\\nyour_list : {}\".format(my_list, your_list))"
   ]
  },
  {
   "cell_type": "code",
   "execution_count": 7,
   "metadata": {},
   "outputs": [
    {
     "name": "stdout",
     "output_type": "stream",
     "text": [
      "my_list : [10, 2, 3]\n",
      "your_list : [10, 2, 3]\n"
     ]
    }
   ],
   "source": [
    "your_list[0] = 10\n",
    "print(\"my_list : {}\\nyour_list : {}\".format(my_list, your_list))"
   ]
  },
  {
   "cell_type": "markdown",
   "metadata": {},
   "source": [
    "### Shallow Copy Example 2\n",
    "\n",
    "정수 요소를 가진 부분을 변경한 경우 원본이 바뀌지 않지만,\n",
    "\n",
    "얕은 복사로 인해서 3 index인 리스트 부분을 변경하는 경우 원본도 같이 바뀐다."
   ]
  },
  {
   "cell_type": "code",
   "execution_count": 12,
   "metadata": {},
   "outputs": [
    {
     "name": "stdout",
     "output_type": "stream",
     "text": [
      "my_list : [1, 2, 3, [4, 5, 6]]\n",
      "your_list : [1, 2, 3, [4, 5, 6]]\n"
     ]
    }
   ],
   "source": [
    "nums = [4, 5, 6]\n",
    "my_list = [1, 2, 3, nums]\n",
    "your_list = my_list[:]\n",
    "\n",
    "print(\"my_list : {}\\nyour_list : {}\".format(my_list, your_list))"
   ]
  },
  {
   "cell_type": "code",
   "execution_count": 13,
   "metadata": {},
   "outputs": [
    {
     "name": "stdout",
     "output_type": "stream",
     "text": [
      "my_list : [1, 2, 3, [4, 5, 6]]\n",
      "your_list : [10, 2, 3, [4, 5, 6]]\n"
     ]
    }
   ],
   "source": [
    "your_list[0] = 10\n",
    "print(\"my_list : {}\\nyour_list : {}\".format(my_list, your_list))"
   ]
  },
  {
   "cell_type": "code",
   "execution_count": 14,
   "metadata": {},
   "outputs": [
    {
     "name": "stdout",
     "output_type": "stream",
     "text": [
      "my_list : [1, 2, 3, [10, 5, 6]]\n",
      "your_list : [10, 2, 3, [10, 5, 6]]\n"
     ]
    }
   ],
   "source": [
    "your_list[3][0] = 10\n",
    "print(\"my_list : {}\\nyour_list : {}\".format(my_list, your_list))"
   ]
  },
  {
   "cell_type": "markdown",
   "metadata": {},
   "source": []
  },
  {
   "cell_type": "markdown",
   "metadata": {},
   "source": [
    "## My Deep Copy"
   ]
  },
  {
   "cell_type": "code",
   "execution_count": 23,
   "metadata": {},
   "outputs": [
    {
     "data": {
      "text/plain": [
       "[1, 2, 3, [2, 3, 4, [4, 5, 6, [6, 7, 8]]]]"
      ]
     },
     "execution_count": 23,
     "metadata": {},
     "output_type": "execute_result"
    }
   ],
   "source": [
    "def my_deep_copy(li):\n",
    "    return [my_deep_copy(x) if isinstance(x, list) else x for x in li]\n",
    "\n",
    "my_deep_copy([1, 2, 3, [2, 3, 4, [4, 5, 6, [6, 7, 8]]]])"
   ]
  },
  {
   "cell_type": "code",
   "execution_count": 34,
   "metadata": {},
   "outputs": [
    {
     "name": "stdout",
     "output_type": "stream",
     "text": [
      "{'a': 1, 'b': 2}\n",
      "{'a': 1, 'b': 2}\n"
     ]
    }
   ],
   "source": [
    "a = {'a': 1, 'b': 2}\n",
    "b = a\n",
    "print(a)\n",
    "print(b)"
   ]
  },
  {
   "cell_type": "code",
   "execution_count": 35,
   "metadata": {},
   "outputs": [
    {
     "name": "stdout",
     "output_type": "stream",
     "text": [
      "{'a': 10, 'b': 2}\n",
      "{'a': 10, 'b': 2}\n"
     ]
    }
   ],
   "source": [
    "b['a'] = 10\n",
    "print(a)\n",
    "print(b)"
   ]
  }
 ],
 "metadata": {
  "kernelspec": {
   "display_name": "Python 3",
   "language": "python",
   "name": "python3"
  },
  "language_info": {
   "codemirror_mode": {
    "name": "ipython",
    "version": 3
   },
   "file_extension": ".py",
   "mimetype": "text/x-python",
   "name": "python",
   "nbconvert_exporter": "python",
   "pygments_lexer": "ipython3",
   "version": "3.7.1"
  }
 },
 "nbformat": 4,
 "nbformat_minor": 2
}
