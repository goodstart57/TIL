{
 "cells": [
  {
   "cell_type": "markdown",
   "metadata": {},
   "source": [
    "# requests, bs4 라이브러리를 이용한 웹 스크레이핑\n",
    "\n",
    "kospi 정보를 스크랩한다.\n",
    "\n",
    "## 다음 증권 홈페이지 로드하기"
   ]
  },
  {
   "cell_type": "code",
   "execution_count": 3,
   "metadata": {},
   "outputs": [
    {
     "data": {
      "text/plain": [
       "<Response [200]>"
      ]
     },
     "execution_count": 3,
     "metadata": {},
     "output_type": "execute_result"
    }
   ],
   "source": [
    "import requests\n",
    "import bs4\n",
    "\n",
    "naver_url = 'http://finance.daum.net/'\n",
    "response = requests.get(naver_url)\n",
    "response"
   ]
  },
  {
   "cell_type": "code",
   "execution_count": 4,
   "metadata": {},
   "outputs": [
    {
     "data": {
      "text/plain": [
       "'<!DOCTYPE html>\\n<html lang=\"ko\">\\n<head>\\n<meta http-equiv=\"Content-Type\" content=\"text/html; charset=utf-8\" />\\n<meta http-equiv=\"X-UA-Compatible\" content=\"IE=edge\" />\\n<link rel=\"shortcut icon\" href=\"http://finance.daum.net/favicon.ico\" type=\"image/x-icon\" />\\n\\n<title>Daum 금융  </title>\\n\\n<link rel=\"stylesheet\" type=\"text/css\" href=\"/dist/common.css?v=1544577417\" />\\n<link rel=\"stylesheet\" type=\"text/css\" href=\"/dist/custom.ui.css?v=1544577417\" />\\n\\n<script>\\n    window.REQUEST_URI = \\'/home\\';\\n    window.CURRENT_URL = encodeURIComponent(\\n        \"\".concat(\\n            window.location.protocol,\\n            \"//\",\\n            window.location.host,\\n            window.location.pathname,\\n            window.location.search\\n        )\\n    );\\n    window.FINANCE = {};\\n    window.FINANCE.BASE_URL = \\'/dist\\';\\n    window.FINANCE.VERSION = \\'1544577417\\';\\n    window.FINANCE.API_URL = \\'\\';\\n    window.FINANCE.HOST = \\'http://finance.daum.net\\';\\n    window._REALTIME_HOST = \\'http://realtime-front-df.dunamu.com\\';\\n    wi'"
      ]
     },
     "execution_count": 4,
     "metadata": {},
     "output_type": "execute_result"
    }
   ],
   "source": [
    "response.text[:1000]"
   ]
  },
  {
   "cell_type": "markdown",
   "metadata": {},
   "source": [
    "<br>\n",
    "\n",
    "'http://finance.daum.net/'을 GET 방식으로 리퀘스트하는 경우 위와 같이 텍스트로 받아와지는데 실제로 인터넷 브라우저에 url을 입력하는 경우 이 텍스트를 받아와서 css, js와 같이 렌딩되어 우리가 흔히 보는 웹페이지를 볼 수 있다."
   ]
  },
  {
   "cell_type": "markdown",
   "metadata": {},
   "source": [
    "## ~~다음 증권의 코스피 지수 스크레이핑~~\n",
    "\n",
    "다음에서 코스피 지수는 동적으로 받아오기 때문에 requests가 html 문서를 받아오는 것 보다 느리게 로드되어서 requests 라이브러리로 스크레이핑 할 수 없다.\n",
    "\n",
    "## 다음 증권의 \"오늘의 증시\"라는 문자열 스크레이핑"
   ]
  },
  {
   "cell_type": "code",
   "execution_count": 19,
   "metadata": {},
   "outputs": [
    {
     "name": "stdout",
     "output_type": "stream",
     "text": [
      "[<h4>오늘의 증시</h4>]\n"
     ]
    }
   ],
   "source": [
    "from bs4 import BeautifulSoup\n",
    "\n",
    "soup = BeautifulSoup(response.text, 'html.parser')\n",
    "today_finance = soup.select('#boxIndexTabs > span > h4')\n",
    "print(today_finance)"
   ]
  },
  {
   "cell_type": "code",
   "execution_count": 31,
   "metadata": {},
   "outputs": [
    {
     "name": "stdout",
     "output_type": "stream",
     "text": [
      "오늘의 증시\n"
     ]
    }
   ],
   "source": [
    "print(today_finance[0].get_text())"
   ]
  },
  {
   "cell_type": "markdown",
   "metadata": {},
   "source": [
    "<br>\n",
    "\n",
    "만약 요소가 단 하나밖에 없어서 하나만 선택해야하는 경우에는 select 메소드가 아닌 select_one 메소드를 사용하면 처음 찾아낸 요소 하나를 리턴한다."
   ]
  },
  {
   "cell_type": "code",
   "execution_count": 30,
   "metadata": {},
   "outputs": [
    {
     "name": "stdout",
     "output_type": "stream",
     "text": [
      "오늘의 증시\n"
     ]
    }
   ],
   "source": [
    "today_finance2 = soup.select_one('#boxIndexTabs > span > h4')\n",
    "print(today_finance2.get_text())"
   ]
  },
  {
   "cell_type": "markdown",
   "metadata": {},
   "source": [
    "## 네이버 증권의 코스피 지수 스크레이핑"
   ]
  },
  {
   "cell_type": "code",
   "execution_count": 39,
   "metadata": {},
   "outputs": [
    {
     "data": {
      "text/plain": [
       "<Response [200]>"
      ]
     },
     "execution_count": 39,
     "metadata": {},
     "output_type": "execute_result"
    }
   ],
   "source": [
    "naver_sise_url = 'https://finance.naver.com/sise/'\n",
    "\n",
    "naver_response = requests.get(naver_sise_url)\n",
    "naver_response"
   ]
  },
  {
   "cell_type": "markdown",
   "metadata": {},
   "source": [
    "<br>\n",
    "\n",
    "kospi의 셀렉터는 id를 사용하기 때문에 select_one를 사용하면 된다."
   ]
  },
  {
   "cell_type": "code",
   "execution_count": 44,
   "metadata": {},
   "outputs": [
    {
     "data": {
      "text/plain": [
       "<span class=\"num \" id=\"KOSPI_now\">2,071.09</span>"
      ]
     },
     "execution_count": 44,
     "metadata": {},
     "output_type": "execute_result"
    }
   ],
   "source": [
    "soup2 = BeautifulSoup(naver_response.text, 'html.parser')\n",
    "\n",
    "kospi = soup2.select_one('#KOSPI_now')\n",
    "kospi"
   ]
  },
  {
   "cell_type": "code",
   "execution_count": 45,
   "metadata": {},
   "outputs": [
    {
     "data": {
      "text/plain": [
       "'2,071.09'"
      ]
     },
     "execution_count": 45,
     "metadata": {},
     "output_type": "execute_result"
    }
   ],
   "source": [
    "kospi.text"
   ]
  }
 ],
 "metadata": {
  "kernelspec": {
   "display_name": "Python 3",
   "language": "python",
   "name": "python3"
  },
  "language_info": {
   "codemirror_mode": {
    "name": "ipython",
    "version": 3
   },
   "file_extension": ".py",
   "mimetype": "text/x-python",
   "name": "python",
   "nbconvert_exporter": "python",
   "pygments_lexer": "ipython3",
   "version": "3.7.1"
  }
 },
 "nbformat": 4,
 "nbformat_minor": 2
}
