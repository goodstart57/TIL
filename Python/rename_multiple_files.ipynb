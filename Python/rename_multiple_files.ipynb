{
 "cells": [
  {
   "cell_type": "code",
   "execution_count": 10,
   "metadata": {},
   "outputs": [],
   "source": [
    "from glob import glob\n",
    "\n",
    "import os"
   ]
  },
  {
   "cell_type": "code",
   "execution_count": 46,
   "metadata": {},
   "outputs": [
    {
     "data": {
      "text/plain": [
       "['.\\\\list\\\\100_배민현.txt',\n",
       " '.\\\\list\\\\101_주성준.txt',\n",
       " '.\\\\list\\\\102_최연정.txt',\n",
       " '.\\\\list\\\\103_임도연.txt',\n",
       " '.\\\\list\\\\104_하성준.txt']"
      ]
     },
     "execution_count": 46,
     "metadata": {},
     "output_type": "execute_result"
    }
   ],
   "source": [
    "file_names = glob(\".\\\\list\\\\*.txt\")\n",
    "file_names[:5]"
   ]
  },
  {
   "cell_type": "code",
   "execution_count": 60,
   "metadata": {},
   "outputs": [
    {
     "name": "stdout",
     "output_type": "stream",
     "text": [
      "original path : .\\list\\100_배민현.txt\n",
      "new_path : .\\list\\ssafy_100_배민현.txt\n"
     ]
    }
   ],
   "source": [
    "ori_path = file_names[0]\n",
    "print('original path : {0}'.format(ori_path))\n",
    "\n",
    "path, file_name = os.path.split(ori_path)\n",
    "file_name = file_name.split('_')\n",
    "file_name[0] = '{0:03d}'.format(int(file_name[0]))\n",
    "if not file_name[0]=='ssafy': file_name.insert(0, 'ssafy')\n",
    "file_name = \"_\".join(file_name)\n",
    "new_path = os.path.join(path, file_name)\n",
    "print('new_path : {0}'.format(new_path))"
   ]
  },
  {
   "cell_type": "code",
   "execution_count": 62,
   "metadata": {},
   "outputs": [
    {
     "name": "stdout",
     "output_type": "stream",
     "text": [
      "Successfully rename for All files\n"
     ]
    }
   ],
   "source": [
    "for ori_path in file_names:\n",
    "    path, file_name = os.path.split(ori_path)\n",
    "    file_name = file_name.split('_')\n",
    "    file_name[0] = '{0:03d}'.format(int(file_name[0]))\n",
    "    if not file_name[0]=='ssafy': file_name.insert(0, 'ssafy')\n",
    "    file_name = \"_\".join(file_name)\n",
    "    new_path = os.path.join(path, file_name)\n",
    "    os.rename(ori_path, new_path)\n",
    "print('Successfully rename for All files')"
   ]
  },
  {
   "cell_type": "code",
   "execution_count": 41,
   "metadata": {},
   "outputs": [
    {
     "data": {
      "text/plain": [
       "['100_배민현.txt', '101_주성준.txt', '102_최연정.txt', '103_임도연.txt', '104_하성준.txt']"
      ]
     },
     "execution_count": 41,
     "metadata": {},
     "output_type": "execute_result"
    }
   ],
   "source": [
    "import os\n",
    "\n",
    "os.chdir(r'C:\\\\Workspace\\\\ssafy\\\\chatbot\\\\day1\\\\list')\n",
    "os.listdir('.')[:5]"
   ]
  }
 ],
 "metadata": {
  "kernelspec": {
   "display_name": "Python 3",
   "language": "python",
   "name": "python3"
  },
  "language_info": {
   "codemirror_mode": {
    "name": "ipython",
    "version": 3
   },
   "file_extension": ".py",
   "mimetype": "text/x-python",
   "name": "python",
   "nbconvert_exporter": "python",
   "pygments_lexer": "ipython3",
   "version": "3.7.1"
  }
 },
 "nbformat": 4,
 "nbformat_minor": 2
}
