{
 "cells": [
  {
   "cell_type": "markdown",
   "metadata": {},
   "source": [
    "# webbrowser 라이브러리를 이용한 웹 자동화\n",
    "\n",
    "Convenient Web-browser controller\n",
    "\n",
    "## 1. 다음 홈페이지 여러가지 방식으로 띄워보기"
   ]
  },
  {
   "cell_type": "code",
   "execution_count": 7,
   "metadata": {},
   "outputs": [
    {
     "data": {
      "text/plain": [
       "True"
      ]
     },
     "execution_count": 7,
     "metadata": {},
     "output_type": "execute_result"
    }
   ],
   "source": [
    "import webbrowser\n",
    "\n",
    "daum_url = 'http://daum.net'\n",
    "webbrowser.open(url=daum_url)"
   ]
  },
  {
   "cell_type": "code",
   "execution_count": 6,
   "metadata": {},
   "outputs": [
    {
     "data": {
      "text/plain": [
       "True"
      ]
     },
     "execution_count": 6,
     "metadata": {},
     "output_type": "execute_result"
    }
   ],
   "source": [
    "webbrowser.open_new(url=daum_url)"
   ]
  },
  {
   "cell_type": "code",
   "execution_count": 5,
   "metadata": {},
   "outputs": [
    {
     "data": {
      "text/plain": [
       "True"
      ]
     },
     "execution_count": 5,
     "metadata": {},
     "output_type": "execute_result"
    }
   ],
   "source": [
    "webbrowser.open_new_tab(url=daum_url)"
   ]
  },
  {
   "cell_type": "markdown",
   "metadata": {},
   "source": [
    "`webbrowser` 라이브러리를 이용하여 새로운 창, 탭이 정상적으로 띄워진 결과 True가 리턴되었다.\n",
    "\n",
    "다음으로는 홈페이지에 접속하는 것 뿐만 아니라 검색을 해보겠다.\n",
    "\n",
    "## 파이썬 코드로  ssafy 검색하기"
   ]
  },
  {
   "cell_type": "code",
   "execution_count": 9,
   "metadata": {},
   "outputs": [
    {
     "data": {
      "text/plain": [
       "True"
      ]
     },
     "execution_count": 9,
     "metadata": {},
     "output_type": "execute_result"
    }
   ],
   "source": [
    "search_url = 'https://search.daum.net/search?q='\n",
    "\n",
    "webbrowser.open_new_tab(search_url+'ssafy')"
   ]
  },
  {
   "cell_type": "markdown",
   "metadata": {},
   "source": [
    "## mission 1\n",
    "\n",
    "webbrowser 모듈과 반복문을 이용하여 'ssafy', 'samsung', 'sw', 'coding'을 다음에서 검색해보기"
   ]
  },
  {
   "cell_type": "code",
   "execution_count": 11,
   "metadata": {},
   "outputs": [
    {
     "name": "stdout",
     "output_type": "stream",
     "text": [
      "[True, True, True, True]\n"
     ]
    }
   ],
   "source": [
    "search_url = 'https://search.daum.net/search?q='\n",
    "result = []\n",
    "for keyword in ['ssafy', 'samsung', 'sw', 'coding']:\n",
    "    result.append(webbrowser.open_new_tab(search_url+keyword))\n",
    "print(result)"
   ]
  }
 ],
 "metadata": {
  "kernelspec": {
   "display_name": "Python 3",
   "language": "python",
   "name": "python3"
  },
  "language_info": {
   "codemirror_mode": {
    "name": "ipython",
    "version": 3
   },
   "file_extension": ".py",
   "mimetype": "text/x-python",
   "name": "python",
   "nbconvert_exporter": "python",
   "pygments_lexer": "ipython3",
   "version": "3.7.1"
  }
 },
 "nbformat": 4,
 "nbformat_minor": 2
}
