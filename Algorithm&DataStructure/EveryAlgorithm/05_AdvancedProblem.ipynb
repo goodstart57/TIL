{
 "cells": [
  {
   "cell_type": "markdown",
   "id": "e866feab-d9f4-4235-a563-db3a544636e4",
   "metadata": {},
   "source": [
    "# 모두의 알고리즘 with 파이썬"
   ]
  },
  {
   "cell_type": "markdown",
   "id": "86e4275b-c7e5-43b4-a742-07972869ebd2",
   "metadata": {},
   "source": [
    "## 다섯째 마당 응용 문제"
   ]
  },
  {
   "cell_type": "markdown",
   "id": "0690ffa5-0a06-491a-82b4-c16315ddddb9",
   "metadata": {},
   "source": [
    "### 가짜동전 찾기\n",
    "\n",
    "n개의 동전 중 무게가 다른 하나의 가짜 동전을 찾는 프로그램\n",
    "\n",
    "실제 무게는 조회 불가능하며 weigh 함수를 통해 비교만 가능하다."
   ]
  },
  {
   "cell_type": "code",
   "execution_count": 25,
   "id": "ad4bf7e6-c99b-4eec-a001-91265609c9a3",
   "metadata": {},
   "outputs": [],
   "source": [
    "global FAKE\n",
    "FAKE = 29\n",
    "\n",
    "\n",
    "def weigh(a, b, c, d):\n",
    "    \"\"\"\n",
    "    :arge:\n",
    "        FAKE : 가짜 동전의 index\n",
    "    \n",
    "    :return:\n",
    "        -1 : a와 b사이에 가짜 동전이 있는 경우\n",
    "        1 : c와 d사이에 가짜 동전이 있는 경우\n",
    "        0 : 가짜 동전이 없는 경우\n",
    "    \"\"\"\n",
    "    if a <= FAKE <= b:\n",
    "        return -1\n",
    "    elif c <= FAKE <= d:\n",
    "        return 1\n",
    "    else:\n",
    "        return 0"
   ]
  },
  {
   "cell_type": "code",
   "execution_count": 27,
   "id": "177cc9db-9eed-477a-b9a0-a0a4b4ec6489",
   "metadata": {},
   "outputs": [],
   "source": [
    "def find_fakecoin(left, right): # 1, 9\n",
    "    if left == right:\n",
    "        return left\n",
    "    \n",
    "    mid = (right - left + 1) // 2 # 4\n",
    "    \n",
    "    g1_left = left # 1\n",
    "    g1_right = left + mid - 1 # 1 + 4 - 1 = 4\n",
    "    g2_left = left + mid # 5\n",
    "    g2_right = left + mid + mid - 1 # 8\n",
    "    \n",
    "    intermidiate = weigh(g1_left, g1_right, g2_left, g2_right) # 1, 4, 5, 10\n",
    "    \n",
    "    if intermidiate == -1:\n",
    "        return find_fakecoin(g1_left, g1_right)\n",
    "    elif intermidiate == 1:\n",
    "        return find_fakecoin(g2_left, g2_right)\n",
    "    else:\n",
    "        return right"
   ]
  },
  {
   "cell_type": "code",
   "execution_count": 28,
   "id": "71122978-a991-47ef-8db0-f35af0b8ed4e",
   "metadata": {},
   "outputs": [
    {
     "name": "stdout",
     "output_type": "stream",
     "text": [
      "29\n"
     ]
    }
   ],
   "source": [
    "n = 100\n",
    "print(find_fakecoin(0, n-1))"
   ]
  },
  {
   "cell_type": "markdown",
   "id": "5eebce02-288b-455c-a9a7-315851869699",
   "metadata": {},
   "source": [
    "### 최대 수익 알고리즘\n",
    "\n",
    "알고리즘을 최적화 하는 과정"
   ]
  },
  {
   "cell_type": "code",
   "execution_count": 35,
   "id": "72ed6ee0-5a75-4f0c-8ed6-212015dfd646",
   "metadata": {},
   "outputs": [],
   "source": [
    "from datetime import datetime\n",
    "\n",
    "stock = [10300, 9600, 9800, 8200, 7800, 8300, 9500, 9800, 10200, 9500]"
   ]
  },
  {
   "cell_type": "code",
   "execution_count": 38,
   "id": "ec950ab7-30f7-4508-a56c-9b500b8c8b09",
   "metadata": {},
   "outputs": [
    {
     "name": "stdout",
     "output_type": "stream",
     "text": [
      "[0:00:00.000283] 2400\n"
     ]
    }
   ],
   "source": [
    "def max_profit(prices):\n",
    "    max_profit = 0\n",
    "    \n",
    "    for i in range(len(prices)):\n",
    "        for j in range(i+1, len(prices)):\n",
    "            profit = prices[j] - prices[i]\n",
    "            if profit > max_profit:\n",
    "                max_profit = profit\n",
    "    return max_profit\n",
    "\n",
    "started_at = datetime.now()\n",
    "result = max_profit(stock)\n",
    "print(f\"[{datetime.now() - started_at}] {result}\")"
   ]
  },
  {
   "cell_type": "code",
   "execution_count": 39,
   "id": "2fd02f8c-0a01-4062-9c84-4a090d50e1ad",
   "metadata": {},
   "outputs": [
    {
     "name": "stdout",
     "output_type": "stream",
     "text": [
      "[0:00:00.000143] 2400\n"
     ]
    }
   ],
   "source": [
    "def max_profit(prices):\n",
    "    max_profit = 0\n",
    "    min_price = prices[0]\n",
    "    \n",
    "    for i in range(1, len(prices)):\n",
    "        profit = prices[i] - min_price\n",
    "        if profit > max_profit:\n",
    "            max_profit = profit\n",
    "        \n",
    "        if prices[i] < min_price:\n",
    "            min_price = prices[i]\n",
    "            \n",
    "    return max_profit\n",
    "\n",
    "\n",
    "started_at = datetime.now()\n",
    "result = max_profit(stock)\n",
    "print(f\"[{datetime.now() - started_at}] {result}\")"
   ]
  }
 ],
 "metadata": {
  "kernelspec": {
   "display_name": "Python 3 (ipykernel)",
   "language": "python",
   "name": "python3"
  },
  "language_info": {
   "codemirror_mode": {
    "name": "ipython",
    "version": 3
   },
   "file_extension": ".py",
   "mimetype": "text/x-python",
   "name": "python",
   "nbconvert_exporter": "python",
   "pygments_lexer": "ipython3",
   "version": "3.9.7"
  }
 },
 "nbformat": 4,
 "nbformat_minor": 5
}
