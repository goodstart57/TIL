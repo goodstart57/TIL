{
 "cells": [
  {
   "cell_type": "markdown",
   "id": "e866feab-d9f4-4235-a563-db3a544636e4",
   "metadata": {},
   "source": [
    "# 모두의 알고리즘 with 파이썬"
   ]
  },
  {
   "cell_type": "markdown",
   "id": "86e4275b-c7e5-43b4-a742-07972869ebd2",
   "metadata": {},
   "source": [
    "## 네번째 자료 구조\n",
    "\n",
    "### 큐와 스택\n",
    "\n",
    "큐 : 택시 정류장의 승객 줄과 같음. 승객이 줄에 설때(큐에 값을 넣을때, enqueue)는 맨 뒤에, 승객이 탑승 할때(큐에서 뺄때, dequeue)는 앞에서 일어난다.\n",
    "\n",
    "* 큐는 list, deque, queue 모듈을 이용\n",
    "* [python3 queue module description](https://www.daleseo.com/python-queue/) \n",
    "\n",
    "스택 : 접시를 쌓아 놓는것과 같음. 접시를 쌓을때나 뺄때나 가장 위에서(top) 일어난다.\n",
    "\n",
    "* 스택은 list를 이용하여 사용"
   ]
  },
  {
   "cell_type": "code",
   "execution_count": 7,
   "id": "2e586186-7e11-4e34-8009-e78a4b25c7d4",
   "metadata": {},
   "outputs": [
    {
     "name": "stdout",
     "output_type": "stream",
     "text": [
      "True\n",
      "True\n",
      "False\n"
     ]
    }
   ],
   "source": [
    "from collections import deque\n",
    "\n",
    "\n",
    "def palindrome(s):\n",
    "    s = deque(s)\n",
    "    ordered = deque([])\n",
    "    reverse = deque([])\n",
    "    \n",
    "    for c in s:\n",
    "        if c.isalpha():\n",
    "            c = c.lower()\n",
    "            ordered.append(c)\n",
    "            reverse.appendleft(c)\n",
    "    \n",
    "    while ordered:\n",
    "        if ordered.pop() != reverse.pop():\n",
    "            return False\n",
    "    return True\n",
    "\n",
    "\n",
    "print(palindrome(\"Wow\"))\n",
    "print(palindrome(\"Madam, I'm adam\"))\n",
    "print(palindrome(\"Madam, I am adam\"))"
   ]
  }
 ],
 "metadata": {
  "kernelspec": {
   "display_name": "Python 3 (ipykernel)",
   "language": "python",
   "name": "python3"
  },
  "language_info": {
   "codemirror_mode": {
    "name": "ipython",
    "version": 3
   },
   "file_extension": ".py",
   "mimetype": "text/x-python",
   "name": "python",
   "nbconvert_exporter": "python",
   "pygments_lexer": "ipython3",
   "version": "3.9.7"
  }
 },
 "nbformat": 4,
 "nbformat_minor": 5
}
